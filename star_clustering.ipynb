{
  "cells": [
    {
      "cell_type": "code",
      "execution_count": 1,
      "metadata": {
        "id": "o15KhMwQFlnW"
      },
      "outputs": [],
      "source": [
        "import numpy as np\n",
        "from sklearn.cluster import KMeans\n",
        "import matplotlib.pyplot as plt\n",
        "from scipy.misc import face\n",
        "from scipy.ndimage import affine_transform\n",
        "import sys\n",
        "import cv2"
      ]
    },
    {
      "cell_type": "code",
      "execution_count": null,
      "metadata": {
        "id": "RLB_LL8IFlnX"
      },
      "outputs": [],
      "source": [
        "# We are doing a depth first search\n",
        "sys.setrecursionlimit(30000)\n",
        "\n",
        "input_file = 'Misc data - no times/med2'\n",
        "img = cv2.imread(input_file+'.jpg')\n",
        "img = cv2.cvtColor(img, cv2.COLOR_BGR2GRAY)\n",
        "width, height = img.shape\n",
        "img_new = cv2.resize(img, (height//2,width//2))\n",
        "width1, height1 = img_new.shape\n",
        "# flatten image\n",
        "img_ = img_new.reshape(-1,1)\n",
        "\n",
        "kmeans = KMeans(n_clusters=2).fit(img_)\n",
        "values = kmeans.cluster_centers_.squeeze()\n",
        "labels = kmeans.labels_\n",
        "img_compressed = np.choose(labels, values)\n",
        "labels_reshaped = labels.reshape(width1, height1)\n",
        "labels_reshaped = labels_reshaped.astype(np.uint8)\n",
        "\n",
        "plt.imshow(labels_reshaped)\n",
        "plt.show()\n",
        "\n",
        "label1 = labels_reshaped[0, 0]  # Get the label of the top-left corner pixel\n",
        "binary_image = np.where(labels_reshaped == label1, 0, 255).astype(np.uint8)\n",
        "\n",
        "plt.imshow(binary_image, cmap='gray')\n",
        "plt.axis('off')  \n",
        "plt.show()"
      ]
    },
    {
      "cell_type": "code",
      "execution_count": 14,
      "metadata": {},
      "outputs": [
        {
          "name": "stdout",
          "output_type": "stream",
          "text": [
            "Binary image saved to binary_\n"
          ]
        }
      ],
      "source": [
        "output_file = 'binary_'\n",
        "cv2.imwrite(output_file + input_file + '.png', binary_image)\n",
        "print(f\"Binary image saved to {output_file}\")"
      ]
    },
    {
      "cell_type": "code",
      "execution_count": null,
      "metadata": {},
      "outputs": [],
      "source": [
        "import cv2\n",
        "test_image = np.asarray(labels_reshaped, dtype=np.uint8)\n",
        "plt.imshow(test_image)\n",
        "threshold_value = 225\n",
        "_, binary_image = cv2.threshold(test_image, threshold_value, 255, cv2.THRESH_BINARY)\n",
        "binary_image_path = 'binary_image_med1.png'\n",
        "cv2.imwrite(binary_image_path, binary_image)"
      ]
    },
    {
      "cell_type": "code",
      "execution_count": null,
      "metadata": {
        "colab": {
          "base_uri": "https://localhost:8080/",
          "height": 413
        },
        "id": "tG4ims0wGotb",
        "outputId": "1a0bf583-d874-467e-9729-e170cd0b20d3"
      },
      "outputs": [],
      "source": [
        "def perform_opening(labels_reshaped, kernel_size):\n",
        "    labels_reshaped = labels_reshaped.astype(np.uint8)\n",
        "\n",
        "    kernel = np.ones((kernel_size, kernel_size), np.uint8)\n",
        "\n",
        "    opened_image = cv2.morphologyEx(labels_reshaped, cv2.MORPH_OPEN, kernel)\n",
        "\n",
        "    return opened_image\n",
        "\n",
        "kernel_size = 5\n",
        "opened_image = perform_opening(labels_reshaped, kernel_size)\n",
        "\n",
        "contours, _ = cv2.findContours(opened_image.copy(), cv2.RETR_EXTERNAL, cv2.CHAIN_APPROX_SIMPLE)\n",
        "longest_contour = max(contours, key=cv2.contourArea)\n",
        "\n",
        "foreground_mask = np.zeros_like(img, dtype=np.uint8)\n",
        "cv2.drawContours(foreground_mask, [longest_contour], -1, 255, cv2.FILLED)\n",
        "\n",
        "y_values = np.where(foreground_mask != 0)[0]\n",
        "highest_y = min(y_values)\n",
        "\n",
        "x, y, w, h = cv2.boundingRect(longest_contour)\n",
        "background_cropped = img_new[0:highest_y]\n",
        "\n",
        "plt.imshow(background_cropped)"
      ]
    },
    {
      "cell_type": "code",
      "execution_count": null,
      "metadata": {},
      "outputs": [],
      "source": [
        "selected_point = None\n",
        "\n",
        "def shift_image_center(image, center):\n",
        "    rows, cols = image.shape[:2]\n",
        "    dx, dy = cols/2 - center[0], rows/2 - center[1]\n",
        "    translation_matrix = np.float32([[1, 0, dx], [0, 1, dy]])\n",
        "    return cv2.warpAffine(image, translation_matrix, (cols, rows))\n",
        "\n",
        "def mouse_callback(event, x, y, flags, param):\n",
        "    global selected_point\n",
        "    if event == cv2.EVENT_LBUTTONDOWN:\n",
        "        selected_point = (x, y)\n",
        "        cv2.destroyAllWindows()\n",
        "\n",
        "cv2.imshow(\"Select New Center\", background_cropped)\n",
        "cv2.setMouseCallback(\"Select New Center\", mouse_callback)\n",
        "cv2.waitKey(0)\n",
        "\n",
        "if selected_point is not None:\n",
        "    shifted_image = shift_image_center(background_cropped, selected_point)\n",
        "\n",
        "    plt.imshow(shifted_image)\n",
        "    plt.show()\n",
        "else:\n",
        "    print(\"No point selected.\")"
      ]
    }
  ],
  "metadata": {
    "colab": {
      "provenance": []
    },
    "kernelspec": {
      "display_name": "Python 3",
      "language": "python",
      "name": "python3"
    },
    "language_info": {
      "codemirror_mode": {
        "name": "ipython",
        "version": 3
      },
      "file_extension": ".py",
      "mimetype": "text/x-python",
      "name": "python",
      "nbconvert_exporter": "python",
      "pygments_lexer": "ipython3",
      "version": "3.9.6"
    }
  },
  "nbformat": 4,
  "nbformat_minor": 0
}
